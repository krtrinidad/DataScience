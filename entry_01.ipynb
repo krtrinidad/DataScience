{
 "cells": [
  {
   "cell_type": "markdown",
   "metadata": {},
   "source": [
    "[Work in Progress] Correlating Economic Indicators and Suicide Rate: A Philippine Outlook"
   ]
  },
  {
   "cell_type": "markdown",
   "metadata": {},
   "source": [
    "Problem:\n",
    "Find an economic indicator with a positive correlation with suicide rate.\n",
    "Use said indicator to create a model for forecasting suicide rate.\n",
    "\n",
    "Limitation:\n",
    "Use data only between 2000-2018/2019\n",
    "-Philippine Suicide Rate earliest available data is from 2000\n",
    "-Excluded 2020 data because of COVID-19 pandemic which could have introduced one or more factors that severely aggravated the country's suicide rate. The identification of said factors are outside the scope of this meta-analysis.\n",
    "\n",
    "\n",
    "*Dataset obtained from World Bank Open Database"
   ]
  },
  {
   "cell_type": "markdown",
   "metadata": {},
   "source": [
    "Economic Indicators Looked At:\n",
    "\n",
    "Inflation Rate\n",
    "Gross Domestic Product (GDP) Growth\n",
    "Unemployment Rate\n",
    "Consumer Price Index"
   ]
  },
  {
   "cell_type": "code",
   "execution_count": 4,
   "metadata": {},
   "outputs": [
    {
     "name": "stdout",
     "output_type": "stream",
     "text": [
      "68.87966805\n",
      "Pearson's correlation: \n",
      "Model Coefficients: [[0.40733532]]\n",
      "Mean Absolute Error: 0.1311511101481756\n",
      "Coefficient of Determination: 0.5563824913014945\n",
      "Linear Regression prediction: \n",
      "[[0.55389563]\n",
      " [0.33326109]\n",
      " [0.60279089]\n",
      " [0.39244809]]\n",
      "Actual Values:\n",
      "      Female Suicide\n",
      "2012            0.75\n",
      "2004            0.25\n",
      "2015            0.50\n",
      "2006            0.25\n",
      "SVR prediction: \n",
      "[0.51927428 0.61734575 0.50907663 0.74346634]\n",
      "Actual Values:\n",
      "2015    0.500\n",
      "2013    0.625\n",
      "2017    0.500\n",
      "2012    0.750\n",
      "Name: Female Suicide, dtype: float64\n"
     ]
    },
    {
     "data": {
      "image/png": "[encoded data removed]",
      "text/plain": [
       "<Figure size 432x288 with 1 Axes>"
      ]
     },
     "metadata": {
      "needs_background": "light"
     },
     "output_type": "display_data"
    }
   ],
   "source": [
    "import pandas as pd\n",
    "import matplotlib.pyplot as plt\n",
    "import numpy as np\n",
    "from sklearn.svm import SVR\n",
    "from sklearn import preprocessing\n",
    "from sklearn.linear_model import LinearRegression\n",
    "from sklearn.model_selection import train_test_split\n",
    "from sklearn.metrics import mean_squared_error, r2_score, mean_absolute_error\n",
    "\n",
    "\n",
    "\n",
    "\n",
    "def selectMinMax(spec_array):\n",
    "    min_max = [spec_array[0],spec_array[0]]    \n",
    "    for i in spec_array:\n",
    "        if(min_max[1]<float(i)):\n",
    "            min_max[1]=float(i)\n",
    "        if(min_max[0]>float(i)):\n",
    "            min_max[0]=float(i)\n",
    "    return min_max\n",
    "\n",
    "def normalize(min_max,feed):\n",
    "    normalized =np.empty(len(feed),dtype=float)\n",
    "    counter = 0\n",
    "    for i in feed:\n",
    "        normalized[counter] = ((float(i)-min_max[0])/(min_max[1]-min_max[0]))\n",
    "        counter+=1\n",
    "    return normalized\n",
    "    \n",
    "\n",
    "#load dataset\n",
    "dataset = pd.read_csv(\"data_source/economic_measures_suicide_rate.csv\", usecols=[4,5,6,7,8,9,10,11,12,13,14,15,16,17,18,19,20,21,22])\n",
    "dataset = dataset.dropna()\n",
    "\n",
    "\n",
    "cpi = dataset.iloc[4]\n",
    "suicide_female = dataset.iloc[5]\n",
    "suicide_male = dataset.iloc[6]\n",
    "\n",
    "counter=0\n",
    "\n",
    "for row in cpi:\n",
    "    if(isinstance(row,float)==False):\n",
    "        print(row)\n",
    "        row = np.float64(row)\n",
    "    \n",
    "# for i in cpi.values:\n",
    "#     print(i)\n",
    "#     print(type(i))\n",
    "\n",
    "#check for correlation\n",
    "x= cpi.array.to_numpy().squeeze()\n",
    "y=suicide_female.to_numpy().squeeze()\n",
    "# z=suicide_male.to_numpy().squeeze()\n",
    "#print(x)\n",
    "print(\"Pearson's correlation: \")\n",
    "#print(cpi.values)\n",
    "#print(np.corrcoef(x,y))\n",
    "\n",
    "min_max=selectMinMax(cpi.to_numpy())\n",
    "normalized_cpi=normalize(min_max,cpi.to_numpy())\n",
    "\n",
    "plt.plot(normalized_cpi,label=\"Consumer Price Index\",marker=11)\n",
    "\n",
    "min_max=selectMinMax(suicide_female.to_numpy())\n",
    "normalized_suicide_f=normalize(min_max,suicide_female.to_numpy())\n",
    "\n",
    "plt.plot(normalized_suicide_f,label=\"Female Suicie\",marker=11)\n",
    "\n",
    "a = np.array(normalized_cpi)\n",
    "b= np.array(normalized_suicide_f)\n",
    "\n",
    "pd_setup = pd.DataFrame({'CPI':a.ravel(),'Female Suicide':b.ravel()})\n",
    "pd_setup = pd_setup.set_axis(['2000','2001','2002','2003','2004','2005','2006','2007','2008','2009','2010','2011','2012','2013','2014','2015','2016','2017','2018'],axis=0)\n",
    "\n",
    "# Split Train and Test sets\n",
    "X_train, X_test, y_train, y_test = train_test_split(pd_setup[['CPI']], pd_setup[['Female Suicide']], test_size=0.2)\n",
    "\n",
    "# Create Regression Model\n",
    "model = LinearRegression()\n",
    "\n",
    "# Train the model\n",
    "model.fit(X_train, y_train)\n",
    "\n",
    "# Use model to make predictions\n",
    "y_pred = model.predict(X_test)\n",
    "\n",
    "# Printout relevant metrics\n",
    "print(\"Model Coefficients:\", model.coef_)\n",
    "print(\"Mean Absolute Error:\", mean_absolute_error(y_test, y_pred))\n",
    "print(\"Coefficient of Determination:\", r2_score(y_test, y_pred))\n",
    "\n",
    "print(\"Linear Regression prediction: \")\n",
    "print(y_pred)\n",
    "print(\"Actual Values:\")\n",
    "print(y_test)\n",
    "\n",
    "X_train, X_test, y_train, y_test=train_test_split(pd_setup,pd_setup['Female Suicide'], test_size=0.2, random_state=100)\n",
    "regressor = SVR(kernel = 'rbf')\n",
    "regressor.fit(X_train, y_train)\n",
    "y_pred = regressor.predict(X_test)\n",
    "\n",
    "print(\"SVR prediction: \")\n",
    "print(y_pred)\n",
    "print(\"Actual Values:\")\n",
    "print(y_test)\n"
   ]
  }
 ],
 "metadata": {
  "interpreter": {
   "hash": "bb9cfe0668aa602f86da84290e55317db67c75cf3cd616ba91da23e0dbc90c96"
  },
  "kernelspec": {
   "display_name": "Python 3.9.6 64-bit",
   "language": "python",
   "name": "python3"
  },
  "language_info": {
   "codemirror_mode": {
    "name": "ipython",
    "version": 3
   },
   "file_extension": ".py",
   "mimetype": "text/x-python",
   "name": "python",
   "nbconvert_exporter": "python",
   "pygments_lexer": "ipython3",
   "version": "3.9.6"
  },
  "orig_nbformat": 4
 },
 "nbformat": 4,
 "nbformat_minor": 2
}
